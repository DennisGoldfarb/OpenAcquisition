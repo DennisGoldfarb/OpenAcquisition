{
    "cells": [
        {
            "cell_type": "markdown",
            "metadata": {},
            "source": [
                "# Example usage\n",
                "\n",
                "To use `openacquisition` in a project:"
            ]
        },
        {
            "cell_type": "code",
            "execution_count": 1,
            "metadata": {},
            "outputs": [
                {
                    "name": "stdout",
                    "output_type": "stream",
                    "text": [
                        "0.1.0\n"
                    ]
                }
            ],
            "source": [
                "import openacquisition\n",
                "print(openacquisition.__version__)"
            ]
        },
        {
            "cell_type": "markdown",
            "metadata": {},
            "source": [
                "## Isolation Windows"
            ]
        },
        {
            "cell_type": "code",
            "execution_count": 2,
            "metadata": {},
            "outputs": [
                {
                    "name": "stdout",
                    "output_type": "stream",
                    "text": [
                        "Isolation efficiency at 0.0 offset: 1.0\n"
                    ]
                },
                {
                    "data": {
                        "image/png": "[encoded data removed]",
                        "text/plain": [
                            "<Figure size 432x288 with 1 Axes>"
                        ]
                    },
                    "metadata": {
                        "needs_background": "light"
                    },
                    "output_type": "display_data"
                }
            ],
            "source": [
                "from openacquisition.isolation_windows.isolation_shape import IsolationShape\n",
                "import matplotlib.pyplot as plt\n",
                "import numpy as np\n",
                "\n",
                "# Constructor\n",
                "shape = IsolationShape(1,10,0,1)\n",
                "# Isolation efficiency at the window's center\n",
                "print(\"Isolation efficiency at 0.0 offset:\", shape.get_isolation_efficiency(0))\n",
                "\n",
                "\n",
                "# Generate data to plot isolation window shape\n",
                "x = np.linspace(-2, 2, 100)\n",
                "y = [shape.get_isolation_efficiency(offset) for offset in x]\n",
                "\n",
                "# Make plot\n",
                "fig, ax = plt.subplots()\n",
                "ax.plot(x,y)\n",
                "plt.show()"
            ]
        }
    ],
    "metadata": {
        "kernelspec": {
            "display_name": "Python 3.9.10 ('openacquisition-Qmxb9cfD-py3.9')",
            "language": "python",
            "name": "python3"
        },
        "language_info": {
            "codemirror_mode": {
                "name": "ipython",
                "version": 3
            },
            "file_extension": ".py",
            "mimetype": "text/x-python",
            "name": "python",
            "nbconvert_exporter": "python",
            "pygments_lexer": "ipython3",
            "version": "3.9.10"
        },
        "vscode": {
            "interpreter": {
                "hash": "1da4eb46a0244d192464632856ec2d3ea9e889542e339e8a3cdba8d55f921119"
            }
        }
    },
    "nbformat": 4,
    "nbformat_minor": 4
}
